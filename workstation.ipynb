{
 "cells": [
  {
   "attachments": {},
   "cell_type": "markdown",
   "metadata": {},
   "source": [
    "IF NO STARTUP SCRIPT WAS USED, run in terminal:\n",
    "\n",
    "<code>bash text2video_startup.txt</code>"
   ]
  },
  {
   "cell_type": "code",
   "execution_count": null,
   "metadata": {},
   "outputs": [],
   "source": [
    "from diffusers import StableDiffusionPipeline, DPMSolverMultistepScheduler\n",
    "\n",
    "from stable_diffusion_videos import StableDiffusionWalkPipeline\n",
    "import torch\n",
    "import mediapy as media\n",
    "\n",
    "import os\n",
    "from dotenv import load_dotenv\n",
    "from pyuploadcare import Uploadcare, File\n",
    "import psycopg2\n",
    "\n",
    "load_dotenv()\n",
    "\n",
    "UC_public_key = os.getenv('UPLOADCARE_PUBLIC_KEY')\n",
    "UC_secret_key = os.getenv('UPLOADCARE_PRIVATE_KEY')\n",
    "\n",
    "def get_db_connection():\n",
    "    conn = psycopg2.connect(\n",
    "        dbname=os.getenv('DB_DBNAME'),\n",
    "        user=os.getenv('DB_USER'),\n",
    "        password=os.getenv('DB_PASSWORD'),\n",
    "        host=os.getenv('DB_HOST'),\n",
    "        port=os.getenv('DB_PORT'),\n",
    "    )\n",
    "    return conn"
   ]
  },
  {
   "cell_type": "code",
   "execution_count": null,
   "metadata": {},
   "outputs": [],
   "source": [
    "model_id = \"nitrosocke/elden-ring-diffusion\" \n",
    "# [\"stabilityai/stable-diffusion-2-1\", \n",
    "# \"stabilityai/stable-diffusion-2-base\", \n",
    "# \"runwayml/stable-diffusion-v1-5\", \n",
    "# \"SG161222/Realistic_Vision_V1.3\", \n",
    "# \"prompthero/openjourney\", \n",
    "# \"jzli/DreamShaper-3.32\", \n",
    "# \"nitrosocke/redshift-diffusion\",\n",
    "# \"nitrosocke/elden-ring-diffusion\", \n",
    "# \"nitrosocke/Future-Diffusion\", \n",
    "# \"nitrosocke/mo-di-diffusion\" ]\n",
    "\n",
    "\n",
    "pipeline = StableDiffusionWalkPipeline.from_pretrained(\n",
    "    model_id,\n",
    "    torch_dtype=torch.float16,\n",
    ").to(\"cuda\")\n",
    "\n",
    "# Disable Safety Filters Treu/False\n",
    "disable_safety_filter = False \n",
    "\n",
    "if disable_safety_filter == True:\n",
    "  def dummy(images, **kwargs):\n",
    "      return images, False\n",
    "  pipeline.safety_checker = dummy\n"
   ]
  },
  {
   "cell_type": "code",
   "execution_count": null,
   "metadata": {},
   "outputs": [],
   "source": [
    "prompts=['An intricate masterpiece painting by Monet showing a landscape of rolling hills with little villages in between, sunset, professional majestic oil painting by Ed Blinkey, Atey Ghailan, Studio Ghibli, by Jeremy Mann, Greg Manchess, Antonio Moro, trending on ArtStation, trending on CGSociety, Intricate, High Detail, Sharp focus, dramatic, photorealistic painting art by midjourney and greg rutkowski', \n",
    "        'An intricate masterpiece painting by Cezanne showing an urban landscape of skyscrapers and highways, sunset, professional majestic oil painting by Ed Blinkey, Atey Ghailan, Studio Ghibli, by Jeremy Mann, Greg Manchess, Antonio Moro, trending on ArtStation, trending on CGSociety, Intricate, High Detail, Sharp focus, dramatic, photorealistic painting art by midjourney and greg rutkowski'],\n",
    "seeds=[10, 11],\n",
    "num_interpolation_steps=5,\n",
    "height=512,  # use multiples of 64 if > 512. Multiples of 8 if < 512.\n",
    "width=1024,   # use multiples of 64 if > 512. Multiples of 8 if < 512.\n",
    "output_dir='outputs',        # Where images/videos will be saved\n",
    "name='test3',        # Subdirectory of output_dir where images/videos will be saved\n",
    "guidance_scale=9,         # Higher adheres to prompt more, lower lets model take the wheel\n",
    "num_inference_steps=50,     # Number of diffusion steps per image generated. 50 is good default\n",
    "upsample = True"
   ]
  },
  {
   "cell_type": "code",
   "execution_count": null,
   "metadata": {},
   "outputs": [],
   "source": [
    "!python run gen_video.py"
   ]
  },
  {
   "cell_type": "code",
   "execution_count": null,
   "metadata": {},
   "outputs": [],
   "source": [
    "video_path = pipeline.walk(prompts, seeds, num_interpolation_steps, height, width, output_dir, name, guidance_scale, num_inference_steps, upsample)\n",
    "\n",
    "uploadcare = Uploadcare(UC_public_key, UC_secret_key)\n",
    "uploadcareFile = uploadcare.upload(video_path)\n",
    "print(uploadcareFile)\n",
    "\n",
    "\n",
    "with open(video_path, 'rb') as file_object:\n",
    "     uc_file: File = uploadcare.upload(file_object, store=True)\n",
    "     print(uc_file.info)\n",
    "     print(uc_file.original_file_url)\n",
    "\n",
    "# ### Database reading and Writing\n",
    "# conn = get_db_connection()\n",
    "# cur = conn.cursor()\n",
    "\n",
    "\n",
    "# ##################This is not yet working########## Table not yet created, variables not yet defined\n",
    "\n",
    "# # Insert data into the table\n",
    "# cur.execute('INSERT INTO ai_headlines_table (headline, paragraph, image_url)'\n",
    "#                'VALUES (%s, %s, %s)',\n",
    "#                (textAnswer[0],\n",
    "#                textAnswer[1],\n",
    "#                imgLink)\n",
    "#                )\n",
    "\n",
    "# conn.commit()\n",
    "# cur.close()\n",
    "# conn.close()\n",
    "\n",
    "# print(\"Generation finished, data inserted to database\")\n",
    "\n",
    "video = media.read_video(video_path)\n",
    "media.show_video(video, fps=6) "
   ]
  }
 ],
 "metadata": {
  "language_info": {
   "name": "python"
  },
  "orig_nbformat": 4
 },
 "nbformat": 4,
 "nbformat_minor": 2
}
